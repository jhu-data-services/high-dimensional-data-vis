{
 "cells": [
  {
   "cell_type": "markdown",
   "id": "peripheral-consciousness",
   "metadata": {
    "slideshow": {
     "slide_type": "slide"
    }
   },
   "source": [
    "# High Dimensional Data Visualization\n",
    "\n",
    "**Peter Lawson, Ph.D.**<br>\n",
    "Data and Visualization Librarian\n",
    "\n",
    "![title](images/pca/pca_gnmt_interlingua_whitebg.gif)"
   ]
  },
  {
   "cell_type": "markdown",
   "id": "through-edmonton",
   "metadata": {},
   "source": [
    "# Why is it hard to visualize high-dimensional data?"
   ]
  },
  {
   "cell_type": "markdown",
   "id": "excited-report",
   "metadata": {
    "slideshow": {
     "slide_type": "subslide"
    }
   },
   "source": [
    "# The Curse of Dimensionality\n",
    "![title](images/wizard_curse.png)\n",
    "<p><small>Image adapted from \"Two wizards with staffs\" by ClkerFreeVectorImages, licensed under <a href=\"https://creativecommons.org/share-your-work/public-domain/cc0/\">CC0</a></small></p>"
   ]
  },
  {
   "cell_type": "markdown",
   "id": "characteristic-smoke",
   "metadata": {
    "slideshow": {
     "slide_type": "subslide"
    }
   },
   "source": [
    "# $p > n$\n",
    "\n",
    "Where:\n",
    "\n",
    "$p$ = Number of features (or dimensions) and <br>\n",
    "$n$ = Number of samples"
   ]
  },
  {
   "cell_type": "markdown",
   "id": "following-details",
   "metadata": {
    "slideshow": {
     "slide_type": "subslide"
    }
   },
   "source": [
    "> \"As the number of features or dimensions grows, the amount of data we need to generalize (models) accurately grows exponentially.\"  — Charles Isbell"
   ]
  },
  {
   "cell_type": "markdown",
   "id": "qualified-cleaners",
   "metadata": {
    "slideshow": {
     "slide_type": "subslide"
    }
   },
   "source": [
    "# The \"Crowding Problem\"\n",
    "![Crowding](https://miro.medium.com/max/1396/1*ldDA-9rCN_gG3qaMzIA6fA.png)\n",
    "<p><small>Image Source: <a href>https://medium.com/free-code-camp/an-overview-of-principal-component-analysis-6340e3bc407</a></small></p>"
   ]
  },
  {
   "cell_type": "markdown",
   "id": "classified-yahoo",
   "metadata": {
    "slideshow": {
     "slide_type": "subslide"
    }
   },
   "source": [
    "# The Importance of Dimensionality Reduction"
   ]
  },
  {
   "cell_type": "markdown",
   "id": "cellular-recognition",
   "metadata": {
    "slideshow": {
     "slide_type": "slide"
    }
   },
   "source": [
    "# Principle Component Analysis\n",
    "<img src=\"images/pca/pca.jpg\" alt=\"PCA Drawing\" style=\"width: 500px;\"/>"
   ]
  },
  {
   "cell_type": "markdown",
   "id": "violent-piano",
   "metadata": {
    "slideshow": {
     "slide_type": "subslide"
    }
   },
   "source": [
    "<img src=\"images/pca/pca_transformation.jpg\" alt=\"PCA Drawing\" style=\"width: 600px;\"/>\n"
   ]
  },
  {
   "cell_type": "markdown",
   "id": "improving-morgan",
   "metadata": {
    "slideshow": {
     "slide_type": "subslide"
    }
   },
   "source": [
    "<img src=\"images/pca/pca1.jpg\" alt=\"PCA Drawing\" style=\"width: 650px;\"/>"
   ]
  },
  {
   "cell_type": "markdown",
   "id": "composite-commander",
   "metadata": {
    "slideshow": {
     "slide_type": "subslide"
    }
   },
   "source": [
    "<img src=\"images/pca/pca1_projection.jpg\" alt=\"PCA Drawing\" style=\"width: 650px;\"/>"
   ]
  },
  {
   "cell_type": "markdown",
   "id": "intelligent-fetish",
   "metadata": {
    "slideshow": {
     "slide_type": "slide"
    }
   },
   "source": [
    "# t-Distributed Stochastic Neighbor Embedding\n",
    "<img src=\"images/tsne/tsne1.jpg\" alt=\"PCA Drawing\" style=\"width: 650px;\"/>"
   ]
  },
  {
   "cell_type": "markdown",
   "id": "fifth-steps",
   "metadata": {
    "slideshow": {
     "slide_type": "subslide"
    }
   },
   "source": [
    "<img src=\"images/tsne/tsne2.jpg\" alt=\"PCA Drawing\" style=\"width: 800px;\"/>"
   ]
  },
  {
   "cell_type": "markdown",
   "id": "european-hollywood",
   "metadata": {
    "slideshow": {
     "slide_type": "subslide"
    }
   },
   "source": [
    "<img src=\"images/tsne/tsne3.jpg\" alt=\"PCA Drawing\" style=\"width: 800px;\"/>"
   ]
  },
  {
   "cell_type": "markdown",
   "id": "concrete-blood",
   "metadata": {
    "slideshow": {
     "slide_type": "subslide"
    }
   },
   "source": [
    "<img src=\"images/tsne/tsne4.jpg\" alt=\"PCA Drawing\" style=\"width: 800px;\"/>"
   ]
  },
  {
   "cell_type": "markdown",
   "id": "similar-latvia",
   "metadata": {
    "slideshow": {
     "slide_type": "subslide"
    }
   },
   "source": [
    "<img src=\"images/tsne/tsne5.jpg\" alt=\"PCA Drawing\" style=\"width: 800px;\"/>"
   ]
  },
  {
   "cell_type": "markdown",
   "id": "advanced-strike",
   "metadata": {
    "slideshow": {
     "slide_type": "subslide"
    }
   },
   "source": [
    "<img src=\"images/tsne/tsne6.jpg\" alt=\"PCA Drawing\" style=\"width: 650px;\"/>"
   ]
  },
  {
   "cell_type": "markdown",
   "id": "demanding-solomon",
   "metadata": {
    "slideshow": {
     "slide_type": "subslide"
    }
   },
   "source": [
    "<img src=\"images/tsne/tsne7.jpg\" alt=\"PCA Drawing\" style=\"width: 650px;\"/>"
   ]
  },
  {
   "cell_type": "markdown",
   "id": "sapphire-jones",
   "metadata": {
    "slideshow": {
     "slide_type": "subslide"
    }
   },
   "source": [
    "<img src=\"images/tsne/tsne8.jpg\" alt=\"PCA Drawing\" style=\"width: 650px;\"/>"
   ]
  },
  {
   "cell_type": "markdown",
   "id": "secure-cartoon",
   "metadata": {
    "slideshow": {
     "slide_type": "subslide"
    }
   },
   "source": [
    "<img src=\"images/tsne/tsne9.jpg\" alt=\"PCA Drawing\" style=\"width: 650px;\"/>"
   ]
  },
  {
   "cell_type": "markdown",
   "id": "processed-asthma",
   "metadata": {
    "slideshow": {
     "slide_type": "subslide"
    }
   },
   "source": [
    "<img src=\"images/tsne/tsne10.jpg\" alt=\"PCA Drawing\" style=\"width: 650px;\"/>"
   ]
  },
  {
   "cell_type": "markdown",
   "id": "streaming-green",
   "metadata": {
    "slideshow": {
     "slide_type": "subslide"
    }
   },
   "source": [
    "<img src=\"images/tsne/tsne11.jpg\" alt=\"PCA Drawing\" style=\"width: 650px;\"/>"
   ]
  },
  {
   "cell_type": "markdown",
   "id": "durable-country",
   "metadata": {
    "slideshow": {
     "slide_type": "slide"
    }
   },
   "source": [
    "![wine data](images/wine_data_desc.png)"
   ]
  },
  {
   "cell_type": "code",
   "execution_count": null,
   "id": "activated-disability",
   "metadata": {},
   "outputs": [],
   "source": []
  },
  {
   "cell_type": "code",
   "execution_count": null,
   "id": "ultimate-socket",
   "metadata": {},
   "outputs": [],
   "source": []
  },
  {
   "cell_type": "code",
   "execution_count": null,
   "id": "prospective-graph",
   "metadata": {},
   "outputs": [],
   "source": []
  }
 ],
 "metadata": {
  "celltoolbar": "Slideshow",
  "kernelspec": {
   "display_name": "high-dim-vis",
   "language": "python",
   "name": "high-dim-vis"
  },
  "language_info": {
   "codemirror_mode": {
    "name": "ipython",
    "version": 3
   },
   "file_extension": ".py",
   "mimetype": "text/x-python",
   "name": "python",
   "nbconvert_exporter": "python",
   "pygments_lexer": "ipython3",
   "version": "3.8.5"
  }
 },
 "nbformat": 4,
 "nbformat_minor": 5
}
