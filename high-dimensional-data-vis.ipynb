{
 "cells": [
  {
   "cell_type": "markdown",
   "id": "peripheral-consciousness",
   "metadata": {
    "slideshow": {
     "slide_type": "slide"
    }
   },
   "source": [
    "# High Dimensional Data Visualization\n",
    "\n",
    "**Peter Lawson, Ph.D.**<br>\n",
    "Data and Visualization Librarian\n",
    "\n",
    "![title](images/pca/pca_gnmt_interlingua_whitebg.gif)"
   ]
  },
  {
   "cell_type": "markdown",
   "id": "through-edmonton",
   "metadata": {
    "slideshow": {
     "slide_type": "subslide"
    }
   },
   "source": [
    "# Why is it hard to visualize high-dimensional data?"
   ]
  },
  {
   "cell_type": "markdown",
   "id": "excited-report",
   "metadata": {
    "slideshow": {
     "slide_type": "subslide"
    }
   },
   "source": [
    "# The Curse of Dimensionality\n",
    "![title](images/wizard_curse.png)\n",
    "<p><small>Image adapted from \"Two wizards with staffs\" by ClkerFreeVectorImages, licensed under <a href=\"https://creativecommons.org/share-your-work/public-domain/cc0/\">CC0</a></small></p>"
   ]
  },
  {
   "cell_type": "markdown",
   "id": "characteristic-smoke",
   "metadata": {
    "slideshow": {
     "slide_type": "subslide"
    }
   },
   "source": [
    "# $p > n$\n",
    "\n",
    "Where:\n",
    "\n",
    "$p$ = Number of features (or dimensions) and <br>\n",
    "$n$ = Number of samples"
   ]
  },
  {
   "cell_type": "markdown",
   "id": "following-details",
   "metadata": {
    "slideshow": {
     "slide_type": "subslide"
    }
   },
   "source": [
    "> \"As the number of features or dimensions grows, the amount of data we need to generalize (models) accurately grows exponentially.\"  — Charles Isbell"
   ]
  },
  {
   "cell_type": "markdown",
   "id": "qualified-cleaners",
   "metadata": {
    "slideshow": {
     "slide_type": "subslide"
    }
   },
   "source": [
    "# The \"Crowding Problem\"\n",
    "![Crowding](https://miro.medium.com/max/1396/1*ldDA-9rCN_gG3qaMzIA6fA.png)\n",
    "<p><small>Image Source: <a href>https://medium.com/free-code-camp/an-overview-of-principal-component-analysis-6340e3bc407</a></small></p>"
   ]
  },
  {
   "cell_type": "markdown",
   "id": "ancient-computer",
   "metadata": {
    "slideshow": {
     "slide_type": "slide"
    }
   },
   "source": [
    "# Dimensionality Reduction"
   ]
  },
  {
   "cell_type": "markdown",
   "id": "classified-yahoo",
   "metadata": {
    "slideshow": {
     "slide_type": "subslide"
    }
   },
   "source": [
    "\n",
    "# Principle Component Analysis\n",
    "<img src=\"images/pca/pca1.jpg\" alt=\"PCA Drawing\" style=\"width: 500px;\"/>"
   ]
  },
  {
   "cell_type": "markdown",
   "id": "violent-piano",
   "metadata": {
    "slideshow": {
     "slide_type": "subslide"
    }
   },
   "source": [
    "<img src=\"images/pca/pca2.jpg\" alt=\"PCA Drawing\" style=\"width: 600px;\"/>\n"
   ]
  },
  {
   "cell_type": "markdown",
   "id": "improving-morgan",
   "metadata": {
    "slideshow": {
     "slide_type": "subslide"
    }
   },
   "source": [
    "<img src=\"images/pca/pca3.jpg\" alt=\"PCA Drawing\" style=\"width: 650px;\"/>"
   ]
  },
  {
   "cell_type": "markdown",
   "id": "composite-commander",
   "metadata": {
    "slideshow": {
     "slide_type": "subslide"
    }
   },
   "source": [
    "<img src=\"images/pca/pca4.jpg\" alt=\"PCA Drawing\" style=\"width: 650px;\"/>"
   ]
  },
  {
   "cell_type": "markdown",
   "id": "worth-system",
   "metadata": {
    "slideshow": {
     "slide_type": "fragment"
    }
   },
   "source": [
    "<img src=\"images/pca/pca5.jpg\" alt=\"PCA Drawing\" style=\"width: 650px;\"/>"
   ]
  },
  {
   "cell_type": "markdown",
   "id": "instant-lawrence",
   "metadata": {
    "slideshow": {
     "slide_type": "subslide"
    }
   },
   "source": [
    "# Principle Component Analysis (PCA) is:"
   ]
  },
  {
   "cell_type": "markdown",
   "id": "cutting-bacon",
   "metadata": {
    "slideshow": {
     "slide_type": "fragment"
    }
   },
   "source": [
    "- A linear tranformation"
   ]
  },
  {
   "cell_type": "markdown",
   "id": "proved-corruption",
   "metadata": {
    "slideshow": {
     "slide_type": "fragment"
    }
   },
   "source": [
    "* Unsupervised"
   ]
  },
  {
   "cell_type": "markdown",
   "id": "particular-arabic",
   "metadata": {
    "slideshow": {
     "slide_type": "fragment"
    }
   },
   "source": [
    "* Deterministic"
   ]
  },
  {
   "cell_type": "markdown",
   "id": "loved-mandate",
   "metadata": {
    "slideshow": {
     "slide_type": "fragment"
    }
   },
   "source": [
    "* A dimensionality reduction algorithm"
   ]
  },
  {
   "cell_type": "markdown",
   "id": "ranging-nursery",
   "metadata": {
    "slideshow": {
     "slide_type": "fragment"
    }
   },
   "source": [
    "* A visualization algorithm!"
   ]
  },
  {
   "cell_type": "markdown",
   "id": "durable-country",
   "metadata": {
    "slideshow": {
     "slide_type": "slide"
    }
   },
   "source": [
    "![wine data](images/wine_data_desc.png)"
   ]
  },
  {
   "cell_type": "code",
   "execution_count": 122,
   "id": "activated-disability",
   "metadata": {
    "slideshow": {
     "slide_type": "subslide"
    }
   },
   "outputs": [],
   "source": [
    "import numpy as np\n",
    "import pandas as pd\n",
    "import matplotlib.pyplot as plt \n",
    "from sklearn.decomposition import PCA"
   ]
  },
  {
   "cell_type": "code",
   "execution_count": 144,
   "id": "ultimate-socket",
   "metadata": {
    "slideshow": {
     "slide_type": "subslide"
    }
   },
   "outputs": [
    {
     "data": {
      "text/html": [
       "<div>\n",
       "<style scoped>\n",
       "    .dataframe tbody tr th:only-of-type {\n",
       "        vertical-align: middle;\n",
       "    }\n",
       "\n",
       "    .dataframe tbody tr th {\n",
       "        vertical-align: top;\n",
       "    }\n",
       "\n",
       "    .dataframe thead th {\n",
       "        text-align: right;\n",
       "    }\n",
       "</style>\n",
       "<table border=\"1\" class=\"dataframe\">\n",
       "  <thead>\n",
       "    <tr style=\"text-align: right;\">\n",
       "      <th></th>\n",
       "      <th>Alcohol</th>\n",
       "      <th>Malic_Acid</th>\n",
       "      <th>Ash</th>\n",
       "      <th>Ash_Alcanity</th>\n",
       "      <th>Magnesium</th>\n",
       "      <th>Total_Phenols</th>\n",
       "      <th>Flavanoids</th>\n",
       "      <th>Nonflavanoid_Phenols</th>\n",
       "      <th>Proanthocyanins</th>\n",
       "      <th>Color_Intensity</th>\n",
       "      <th>Hue</th>\n",
       "      <th>OD280</th>\n",
       "      <th>Proline</th>\n",
       "      <th>Varietal</th>\n",
       "    </tr>\n",
       "  </thead>\n",
       "  <tbody>\n",
       "    <tr>\n",
       "      <th>0</th>\n",
       "      <td>14.23</td>\n",
       "      <td>1.71</td>\n",
       "      <td>2.43</td>\n",
       "      <td>15.6</td>\n",
       "      <td>127</td>\n",
       "      <td>2.80</td>\n",
       "      <td>3.06</td>\n",
       "      <td>0.28</td>\n",
       "      <td>2.29</td>\n",
       "      <td>5.64</td>\n",
       "      <td>1.04</td>\n",
       "      <td>3.92</td>\n",
       "      <td>1065</td>\n",
       "      <td>1</td>\n",
       "    </tr>\n",
       "    <tr>\n",
       "      <th>1</th>\n",
       "      <td>13.20</td>\n",
       "      <td>1.78</td>\n",
       "      <td>2.14</td>\n",
       "      <td>11.2</td>\n",
       "      <td>100</td>\n",
       "      <td>2.65</td>\n",
       "      <td>2.76</td>\n",
       "      <td>0.26</td>\n",
       "      <td>1.28</td>\n",
       "      <td>4.38</td>\n",
       "      <td>1.05</td>\n",
       "      <td>3.40</td>\n",
       "      <td>1050</td>\n",
       "      <td>1</td>\n",
       "    </tr>\n",
       "    <tr>\n",
       "      <th>2</th>\n",
       "      <td>13.16</td>\n",
       "      <td>2.36</td>\n",
       "      <td>2.67</td>\n",
       "      <td>18.6</td>\n",
       "      <td>101</td>\n",
       "      <td>2.80</td>\n",
       "      <td>3.24</td>\n",
       "      <td>0.30</td>\n",
       "      <td>2.81</td>\n",
       "      <td>5.68</td>\n",
       "      <td>1.03</td>\n",
       "      <td>3.17</td>\n",
       "      <td>1185</td>\n",
       "      <td>1</td>\n",
       "    </tr>\n",
       "    <tr>\n",
       "      <th>3</th>\n",
       "      <td>14.37</td>\n",
       "      <td>1.95</td>\n",
       "      <td>2.50</td>\n",
       "      <td>16.8</td>\n",
       "      <td>113</td>\n",
       "      <td>3.85</td>\n",
       "      <td>3.49</td>\n",
       "      <td>0.24</td>\n",
       "      <td>2.18</td>\n",
       "      <td>7.80</td>\n",
       "      <td>0.86</td>\n",
       "      <td>3.45</td>\n",
       "      <td>1480</td>\n",
       "      <td>1</td>\n",
       "    </tr>\n",
       "    <tr>\n",
       "      <th>4</th>\n",
       "      <td>13.24</td>\n",
       "      <td>2.59</td>\n",
       "      <td>2.87</td>\n",
       "      <td>21.0</td>\n",
       "      <td>118</td>\n",
       "      <td>2.80</td>\n",
       "      <td>2.69</td>\n",
       "      <td>0.39</td>\n",
       "      <td>1.82</td>\n",
       "      <td>4.32</td>\n",
       "      <td>1.04</td>\n",
       "      <td>2.93</td>\n",
       "      <td>735</td>\n",
       "      <td>1</td>\n",
       "    </tr>\n",
       "    <tr>\n",
       "      <th>...</th>\n",
       "      <td>...</td>\n",
       "      <td>...</td>\n",
       "      <td>...</td>\n",
       "      <td>...</td>\n",
       "      <td>...</td>\n",
       "      <td>...</td>\n",
       "      <td>...</td>\n",
       "      <td>...</td>\n",
       "      <td>...</td>\n",
       "      <td>...</td>\n",
       "      <td>...</td>\n",
       "      <td>...</td>\n",
       "      <td>...</td>\n",
       "      <td>...</td>\n",
       "    </tr>\n",
       "    <tr>\n",
       "      <th>173</th>\n",
       "      <td>13.71</td>\n",
       "      <td>5.65</td>\n",
       "      <td>2.45</td>\n",
       "      <td>20.5</td>\n",
       "      <td>95</td>\n",
       "      <td>1.68</td>\n",
       "      <td>0.61</td>\n",
       "      <td>0.52</td>\n",
       "      <td>1.06</td>\n",
       "      <td>7.70</td>\n",
       "      <td>0.64</td>\n",
       "      <td>1.74</td>\n",
       "      <td>740</td>\n",
       "      <td>3</td>\n",
       "    </tr>\n",
       "    <tr>\n",
       "      <th>174</th>\n",
       "      <td>13.40</td>\n",
       "      <td>3.91</td>\n",
       "      <td>2.48</td>\n",
       "      <td>23.0</td>\n",
       "      <td>102</td>\n",
       "      <td>1.80</td>\n",
       "      <td>0.75</td>\n",
       "      <td>0.43</td>\n",
       "      <td>1.41</td>\n",
       "      <td>7.30</td>\n",
       "      <td>0.70</td>\n",
       "      <td>1.56</td>\n",
       "      <td>750</td>\n",
       "      <td>3</td>\n",
       "    </tr>\n",
       "    <tr>\n",
       "      <th>175</th>\n",
       "      <td>13.27</td>\n",
       "      <td>4.28</td>\n",
       "      <td>2.26</td>\n",
       "      <td>20.0</td>\n",
       "      <td>120</td>\n",
       "      <td>1.59</td>\n",
       "      <td>0.69</td>\n",
       "      <td>0.43</td>\n",
       "      <td>1.35</td>\n",
       "      <td>10.20</td>\n",
       "      <td>0.59</td>\n",
       "      <td>1.56</td>\n",
       "      <td>835</td>\n",
       "      <td>3</td>\n",
       "    </tr>\n",
       "    <tr>\n",
       "      <th>176</th>\n",
       "      <td>13.17</td>\n",
       "      <td>2.59</td>\n",
       "      <td>2.37</td>\n",
       "      <td>20.0</td>\n",
       "      <td>120</td>\n",
       "      <td>1.65</td>\n",
       "      <td>0.68</td>\n",
       "      <td>0.53</td>\n",
       "      <td>1.46</td>\n",
       "      <td>9.30</td>\n",
       "      <td>0.60</td>\n",
       "      <td>1.62</td>\n",
       "      <td>840</td>\n",
       "      <td>3</td>\n",
       "    </tr>\n",
       "    <tr>\n",
       "      <th>177</th>\n",
       "      <td>14.13</td>\n",
       "      <td>4.10</td>\n",
       "      <td>2.74</td>\n",
       "      <td>24.5</td>\n",
       "      <td>96</td>\n",
       "      <td>2.05</td>\n",
       "      <td>0.76</td>\n",
       "      <td>0.56</td>\n",
       "      <td>1.35</td>\n",
       "      <td>9.20</td>\n",
       "      <td>0.61</td>\n",
       "      <td>1.60</td>\n",
       "      <td>560</td>\n",
       "      <td>3</td>\n",
       "    </tr>\n",
       "  </tbody>\n",
       "</table>\n",
       "<p>178 rows × 14 columns</p>\n",
       "</div>"
      ],
      "text/plain": [
       "     Alcohol  Malic_Acid   Ash  Ash_Alcanity  Magnesium  Total_Phenols  \\\n",
       "0      14.23        1.71  2.43          15.6        127           2.80   \n",
       "1      13.20        1.78  2.14          11.2        100           2.65   \n",
       "2      13.16        2.36  2.67          18.6        101           2.80   \n",
       "3      14.37        1.95  2.50          16.8        113           3.85   \n",
       "4      13.24        2.59  2.87          21.0        118           2.80   \n",
       "..       ...         ...   ...           ...        ...            ...   \n",
       "173    13.71        5.65  2.45          20.5         95           1.68   \n",
       "174    13.40        3.91  2.48          23.0        102           1.80   \n",
       "175    13.27        4.28  2.26          20.0        120           1.59   \n",
       "176    13.17        2.59  2.37          20.0        120           1.65   \n",
       "177    14.13        4.10  2.74          24.5         96           2.05   \n",
       "\n",
       "     Flavanoids  Nonflavanoid_Phenols  Proanthocyanins  Color_Intensity   Hue  \\\n",
       "0          3.06                  0.28             2.29             5.64  1.04   \n",
       "1          2.76                  0.26             1.28             4.38  1.05   \n",
       "2          3.24                  0.30             2.81             5.68  1.03   \n",
       "3          3.49                  0.24             2.18             7.80  0.86   \n",
       "4          2.69                  0.39             1.82             4.32  1.04   \n",
       "..          ...                   ...              ...              ...   ...   \n",
       "173        0.61                  0.52             1.06             7.70  0.64   \n",
       "174        0.75                  0.43             1.41             7.30  0.70   \n",
       "175        0.69                  0.43             1.35            10.20  0.59   \n",
       "176        0.68                  0.53             1.46             9.30  0.60   \n",
       "177        0.76                  0.56             1.35             9.20  0.61   \n",
       "\n",
       "     OD280  Proline  Varietal  \n",
       "0     3.92     1065         1  \n",
       "1     3.40     1050         1  \n",
       "2     3.17     1185         1  \n",
       "3     3.45     1480         1  \n",
       "4     2.93      735         1  \n",
       "..     ...      ...       ...  \n",
       "173   1.74      740         3  \n",
       "174   1.56      750         3  \n",
       "175   1.56      835         3  \n",
       "176   1.62      840         3  \n",
       "177   1.60      560         3  \n",
       "\n",
       "[178 rows x 14 columns]"
      ]
     },
     "execution_count": 144,
     "metadata": {},
     "output_type": "execute_result"
    }
   ],
   "source": [
    "wine_df = pd.read_csv(\"./data/wine.csv\")\n",
    "wine_df"
   ]
  },
  {
   "cell_type": "code",
   "execution_count": 145,
   "id": "prospective-graph",
   "metadata": {
    "slideshow": {
     "slide_type": "subslide"
    }
   },
   "outputs": [],
   "source": [
    "features = wine_df.drop(\"Varietal\",axis=1)\n",
    "labels = wine_df[\"Varietal\"]"
   ]
  },
  {
   "cell_type": "code",
   "execution_count": 148,
   "id": "progressive-cocktail",
   "metadata": {
    "slideshow": {
     "slide_type": "subslide"
    }
   },
   "outputs": [
    {
     "data": {
      "image/png": "[encoded data removed]",
      "text/plain": [
       "<Figure size 720x576 with 1 Axes>"
      ]
     },
     "metadata": {
      "needs_background": "light"
     },
     "output_type": "display_data"
    }
   ],
   "source": [
    "pca_fit = PCA()\n",
    "features_pca = pca_fit.fit_transform(features)\n",
    "plt.figure(figsize=(10, 8))\n",
    "plt.scatter(features_pca[:, 0], features_pca[:, 1], c=labels)  \n",
    "plt.xlabel('PC1 (Percent Explained Variance: ' + \n",
    "           \"{:.2%}\".format(pca_fit.explained_variance_ratio_[0]) + ')', fontsize=16)\n",
    "plt.ylabel('PC2 (Percent Explained Variance: ' + \n",
    "           \"{:.2%}\".format(pca_fit.explained_variance_ratio_[1]) + ')', fontsize=16)\n",
    "plt.xticks(fontsize=14);\n",
    "plt.yticks(fontsize=14);"
   ]
  },
  {
   "cell_type": "code",
   "execution_count": 150,
   "id": "cultural-baseball",
   "metadata": {
    "slideshow": {
     "slide_type": "subslide"
    }
   },
   "outputs": [
    {
     "data": {
      "image/png": "[encoded data removed]",
      "text/plain": [
       "<Figure size 576x432 with 1 Axes>"
      ]
     },
     "metadata": {
      "needs_background": "light"
     },
     "output_type": "display_data"
    }
   ],
   "source": [
    "PC_values = np.arange(pca_fit.n_components_) + 1\n",
    "plt.figure(figsize=(8, 6))\n",
    "plt.plot(PC_values, pca_fit.explained_variance_ratio_, 'ro-', linewidth=2)\n",
    "plt.title('Scree Plot', fontsize=16)\n",
    "plt.xlabel('Principal Component', fontsize=16) \n",
    "plt.ylabel('Proportion of Variance Explained', fontsize=16);\n",
    "plt.xticks(fontsize=14);\n",
    "plt.yticks(fontsize=14);"
   ]
  },
  {
   "cell_type": "code",
   "execution_count": 143,
   "id": "convenient-pasta",
   "metadata": {
    "slideshow": {
     "slide_type": "subslide"
    }
   },
   "outputs": [
    {
     "data": {
      "image/png": "[encoded data removed]",
      "text/plain": [
       "<Figure size 576x432 with 1 Axes>"
      ]
     },
     "metadata": {
      "needs_background": "light"
     },
     "output_type": "display_data"
    }
   ],
   "source": [
    "pc1_feature_importance = abs(pca_fit.components_[0]);\n",
    "plt.figure(figsize=(8, 6))\n",
    "plt.bar(list(features.columns), pc1_feature_importance);\n",
    "plt.ylabel('PC1 Feature Importance', fontsize=15)\n",
    "plt.xticks(rotation=90, fontsize=15);\n",
    "plt.yticks(fontsize=14);"
   ]
  },
  {
   "cell_type": "markdown",
   "id": "intelligent-fetish",
   "metadata": {
    "slideshow": {
     "slide_type": "slide"
    }
   },
   "source": [
    "# t-Distributed Stochastic Neighbor Embedding\n",
    "<img src=\"images/tsne/tsne1.jpg\" alt=\"TSNE Title Slide\" style=\"width: 650px;\"/>"
   ]
  },
  {
   "cell_type": "markdown",
   "id": "fifth-steps",
   "metadata": {
    "slideshow": {
     "slide_type": "subslide"
    }
   },
   "source": [
    "<img src=\"images/tsne/tsne2.jpg\" alt=\"TNSE drawing\" style=\"width: 800px;\"/>"
   ]
  },
  {
   "cell_type": "markdown",
   "id": "european-hollywood",
   "metadata": {
    "slideshow": {
     "slide_type": "subslide"
    }
   },
   "source": [
    "<img src=\"images/tsne/tsne3.jpg\" alt=\"TSNE Drawing\" style=\"width: 800px;\"/>"
   ]
  },
  {
   "cell_type": "markdown",
   "id": "concrete-blood",
   "metadata": {
    "slideshow": {
     "slide_type": "subslide"
    }
   },
   "source": [
    "<img src=\"images/tsne/tsne4.jpg\" alt=\"TSNE Drawing\" style=\"width: 800px;\"/>"
   ]
  },
  {
   "cell_type": "markdown",
   "id": "similar-latvia",
   "metadata": {
    "slideshow": {
     "slide_type": "subslide"
    }
   },
   "source": [
    "<img src=\"images/tsne/tsne5.jpg\" alt=\"PCA Drawing\" style=\"width: 800px;\"/>"
   ]
  },
  {
   "cell_type": "markdown",
   "id": "advanced-strike",
   "metadata": {
    "slideshow": {
     "slide_type": "subslide"
    }
   },
   "source": [
    "<img src=\"images/tsne/tsne6.jpg\" alt=\"TSNE Drawing\" style=\"width: 650px;\"/>"
   ]
  },
  {
   "cell_type": "markdown",
   "id": "demanding-solomon",
   "metadata": {
    "slideshow": {
     "slide_type": "subslide"
    }
   },
   "source": [
    "<img src=\"images/tsne/tsne7.jpg\" alt=\"PCA Drawing\" style=\"width: 650px;\"/>"
   ]
  },
  {
   "cell_type": "markdown",
   "id": "sapphire-jones",
   "metadata": {
    "slideshow": {
     "slide_type": "subslide"
    }
   },
   "source": [
    "<img src=\"images/tsne/tsne8.jpg\" alt=\"TSNE Drawing\" style=\"width: 650px;\"/>"
   ]
  },
  {
   "cell_type": "markdown",
   "id": "secure-cartoon",
   "metadata": {
    "slideshow": {
     "slide_type": "subslide"
    }
   },
   "source": [
    "<img src=\"images/tsne/tsne9.jpg\" alt=\"TSNE Drawing\" style=\"width: 650px;\"/>"
   ]
  },
  {
   "cell_type": "markdown",
   "id": "processed-asthma",
   "metadata": {
    "slideshow": {
     "slide_type": "subslide"
    }
   },
   "source": [
    "<img src=\"images/tsne/tsne10.jpg\" alt=\"PCA Drawing\" style=\"width: 650px;\"/>"
   ]
  },
  {
   "cell_type": "markdown",
   "id": "streaming-green",
   "metadata": {
    "slideshow": {
     "slide_type": "subslide"
    }
   },
   "source": [
    "<img src=\"images/tsne/tsne11.jpg\" alt=\"TSNE Drawing\" style=\"width: 650px;\"/>"
   ]
  },
  {
   "cell_type": "markdown",
   "id": "sharp-cameroon",
   "metadata": {
    "slideshow": {
     "slide_type": "subslide"
    }
   },
   "source": [
    "![tsne_circle](images/tsne/tsne_circles.gif)"
   ]
  },
  {
   "cell_type": "markdown",
   "id": "lesser-fishing",
   "metadata": {
    "slideshow": {
     "slide_type": "subslide"
    }
   },
   "source": [
    "![tsne_circle](images/tsne/tsne_circles_low_perp.gif)"
   ]
  },
  {
   "cell_type": "code",
   "execution_count": 151,
   "id": "better-sacramento",
   "metadata": {
    "slideshow": {
     "slide_type": "subslide"
    }
   },
   "outputs": [],
   "source": [
    "from sklearn.manifold import TSNE"
   ]
  },
  {
   "cell_type": "code",
   "execution_count": 163,
   "id": "animal-capitol",
   "metadata": {
    "slideshow": {
     "slide_type": "subslide"
    }
   },
   "outputs": [
    {
     "data": {
      "image/png": "[encoded data removed]",
      "text/plain": [
       "<Figure size 720x576 with 1 Axes>"
      ]
     },
     "metadata": {
      "needs_background": "light"
     },
     "output_type": "display_data"
    }
   ],
   "source": [
    "fit = TSNE(n_components=2,\n",
    "           learning_rate=100, \n",
    "           perplexity=10)\n",
    "\n",
    "features_tsne = fit.fit_transform(features)\n",
    "\n",
    "plt.figure(figsize=(10, 8))\n",
    "plt.xticks(fontsize=14)\n",
    "plt.yticks(fontsize=14)\n",
    "plt.scatter(features_tsne[:, 0], features_tsne[:, 1], c=labels);"
   ]
  },
  {
   "cell_type": "markdown",
   "id": "moved-medicare",
   "metadata": {
    "slideshow": {
     "slide_type": "slide"
    }
   },
   "source": [
    "# t-Distributed Stochastic Neighbor Embedding"
   ]
  },
  {
   "cell_type": "markdown",
   "id": "fundamental-sweden",
   "metadata": {
    "slideshow": {
     "slide_type": "fragment"
    }
   },
   "source": [
    "- Non-linear"
   ]
  },
  {
   "cell_type": "markdown",
   "id": "least-cradle",
   "metadata": {
    "slideshow": {
     "slide_type": "fragment"
    }
   },
   "source": [
    "- Sensitive to hyperparameters"
   ]
  },
  {
   "cell_type": "markdown",
   "id": "individual-office",
   "metadata": {
    "slideshow": {
     "slide_type": "fragment"
    }
   },
   "source": [
    "- Stochastic"
   ]
  },
  {
   "cell_type": "markdown",
   "id": "bored-charleston",
   "metadata": {
    "slideshow": {
     "slide_type": "fragment"
    }
   },
   "source": [
    "- Cluster size does not mean anything"
   ]
  },
  {
   "cell_type": "markdown",
   "id": "sharp-replacement",
   "metadata": {
    "slideshow": {
     "slide_type": "fragment"
    }
   },
   "source": [
    "* Distances between clusters may not mean anything"
   ]
  },
  {
   "cell_type": "markdown",
   "id": "boolean-links",
   "metadata": {
    "slideshow": {
     "slide_type": "fragment"
    }
   },
   "source": [
    "* Random noise might not look random"
   ]
  },
  {
   "cell_type": "markdown",
   "id": "hybrid-numbers",
   "metadata": {
    "slideshow": {
     "slide_type": "slide"
    }
   },
   "source": [
    "# Uniform Manifold Approximation and Projection\n",
    "<img src=\"images/umap/umap1.jpg\" alt=\"UMAP Drawing\" style=\"width: 600px;\"/>"
   ]
  },
  {
   "cell_type": "markdown",
   "id": "beautiful-amber",
   "metadata": {
    "slideshow": {
     "slide_type": "subslide"
    }
   },
   "source": [
    "<img src=\"images/umap/umap2.jpg\" alt=\"UMAP Drawing\" style=\"width: 700px;\"/>"
   ]
  },
  {
   "cell_type": "markdown",
   "id": "annual-calculation",
   "metadata": {
    "slideshow": {
     "slide_type": "subslide"
    }
   },
   "source": [
    "![UMAP topology](images/umap/umap_topology.gif)\n",
    "<p><small>Image Source: <a href>https://pair-code.github.io/understanding-umap/</a></small></p>"
   ]
  },
  {
   "cell_type": "markdown",
   "id": "activated-relevance",
   "metadata": {
    "slideshow": {
     "slide_type": "subslide"
    }
   },
   "source": [
    "![UMAP](images/umap/mammoth_umap.gif)\n",
    "<p><small>Image Source: <a href>https://pair-code.github.io/understanding-umap/</a></small></p>"
   ]
  },
  {
   "cell_type": "code",
   "execution_count": 130,
   "id": "crude-sewing",
   "metadata": {
    "slideshow": {
     "slide_type": "subslide"
    }
   },
   "outputs": [],
   "source": [
    "import umap "
   ]
  },
  {
   "cell_type": "code",
   "execution_count": 131,
   "id": "exceptional-stable",
   "metadata": {
    "slideshow": {
     "slide_type": "subslide"
    }
   },
   "outputs": [
    {
     "data": {
      "image/png": "[encoded data removed]",
      "text/plain": [
       "<Figure size 720x576 with 1 Axes>"
      ]
     },
     "metadata": {
      "needs_background": "light"
     },
     "output_type": "display_data"
    }
   ],
   "source": [
    "fit = umap.UMAP(\n",
    "    n_neighbors=25,\n",
    "    min_dist=0.01,\n",
    "    random_state=42\n",
    ")\n",
    "features_umap = fit.fit_transform(features)\n",
    "plt.figure(figsize=(10, 8))\n",
    "plt.xticks(fontsize=14)\n",
    "plt.yticks(fontsize=14)\n",
    "plt.scatter(features_umap[:, 0], features_umap[:, 1], c=labels);"
   ]
  },
  {
   "cell_type": "markdown",
   "id": "thousand-backup",
   "metadata": {
    "slideshow": {
     "slide_type": "slide"
    }
   },
   "source": [
    "# Implementations by Language"
   ]
  },
  {
   "cell_type": "markdown",
   "id": "generic-slide",
   "metadata": {
    "slideshow": {
     "slide_type": "subslide"
    }
   },
   "source": [
    "# Matlab\n",
    "* Statistics and Machine Learning Toolbox\n",
    "    * PCA\n",
    "    * t-SNE\n",
    "    * UMAP (Custom .m from Herzenberg Lab at Stanford University)\n",
    "        * Dependencies - Financial Toolbox"
   ]
  },
  {
   "cell_type": "markdown",
   "id": "worth-neutral",
   "metadata": {
    "slideshow": {
     "slide_type": "subslide"
    }
   },
   "source": [
    "# R\n",
    "* Base R\n",
    "    * PCA\n",
    "* Rtsne\n",
    "    * t-SNE\n",
    "* umap\n",
    "    * UMAP"
   ]
  },
  {
   "cell_type": "markdown",
   "id": "unlike-image",
   "metadata": {
    "slideshow": {
     "slide_type": "subslide"
    }
   },
   "source": [
    "# Python\n",
    "\n",
    "* scikit-learn\n",
    "    * PCA\n",
    "    * t-SNE\n",
    "* umap-learn\n",
    "    * t-SNE"
   ]
  },
  {
   "cell_type": "markdown",
   "id": "labeled-atlanta",
   "metadata": {
    "slideshow": {
     "slide_type": "subslide"
    }
   },
   "source": [
    "# CUDA\n",
    "* TSNE-CUDA\n",
    "    * CUDA Optimized FFT-accelerated Interpolation-based t-SNE (FIt-SNE)"
   ]
  },
  {
   "cell_type": "markdown",
   "id": "direct-documentation",
   "metadata": {
    "slideshow": {
     "slide_type": "slide"
    }
   },
   "source": [
    "# High Dimensional Data Visualization Techniques\n",
    "- PCA\n",
    "- t-SNE\n",
    "- UMAP\n",
    "- Isomap\n",
    "- Multidimensional Scaling (MDS)\n",
    "- Autoencoder\n",
    "- Mapper"
   ]
  }
 ],
 "metadata": {
  "celltoolbar": "Slideshow",
  "kernelspec": {
   "display_name": "Python 3",
   "language": "python",
   "name": "python3"
  },
  "language_info": {
   "codemirror_mode": {
    "name": "ipython",
    "version": 3
   },
   "file_extension": ".py",
   "mimetype": "text/x-python",
   "name": "python",
   "nbconvert_exporter": "python",
   "pygments_lexer": "ipython3",
   "version": "3.8.5"
  }
 },
 "nbformat": 4,
 "nbformat_minor": 5
}
